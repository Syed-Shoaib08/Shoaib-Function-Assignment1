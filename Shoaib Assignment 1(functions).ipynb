{
 "cells": [
  {
   "cell_type": "code",
   "execution_count": null,
   "id": "76a9eaca-237c-4609-8035-f3aac7e024cf",
   "metadata": {},
   "outputs": [],
   "source": [
    "#Q1. Which keyword is used to create a function? Create a function to return a list of odd numbers in the range of 1 to 25."
   ]
  },
  {
   "cell_type": "code",
   "execution_count": null,
   "id": "fad3beb3-9ea6-4b15-b8d6-6f65b70bfedc",
   "metadata": {},
   "outputs": [],
   "source": [
    "#A) For creating a function in python, we use def keyword to begin a function"
   ]
  },
  {
   "cell_type": "code",
   "execution_count": 11,
   "id": "5b11f6d3-2db8-402f-9171-74b53b44a2ce",
   "metadata": {},
   "outputs": [],
   "source": [
    "a=list(range(25))"
   ]
  },
  {
   "cell_type": "code",
   "execution_count": 22,
   "id": "8b61254c-b2b0-4c78-8269-9e40b0734695",
   "metadata": {},
   "outputs": [],
   "source": [
    "def odd_num(n):\n",
    "    a1=[]\n",
    "    for i in range(25):\n",
    "        if i%3==0:\n",
    "            a1.append(i)\n",
    "    return(a1)"
   ]
  },
  {
   "cell_type": "code",
   "execution_count": 23,
   "id": "ad50d0b3-a4ee-4ab3-bac4-11835184cf38",
   "metadata": {},
   "outputs": [
    {
     "data": {
      "text/plain": [
       "[0, 3, 6, 9, 12, 15, 18, 21, 24]"
      ]
     },
     "execution_count": 23,
     "metadata": {},
     "output_type": "execute_result"
    }
   ],
   "source": [
    "odd_num(a)"
   ]
  },
  {
   "cell_type": "code",
   "execution_count": null,
   "id": "9686722b-6bd5-4ee4-93e5-b36fe38220b2",
   "metadata": {},
   "outputs": [],
   "source": []
  },
  {
   "cell_type": "code",
   "execution_count": 24,
   "id": "8312c908-9074-4e52-b975-0b65892d7cd5",
   "metadata": {},
   "outputs": [],
   "source": [
    "#Q2. Why *args and **kwargs is used in some functions? Create a function each for *args and **kwargs to demonstrate their use.\n",
    "#a)  The *args is used to pass a variable number of non-keyword arguments to a function while **kwargs is used to pass a variable number of keyword arguments to a function"
   ]
  },
  {
   "cell_type": "code",
   "execution_count": 28,
   "id": "3e87367b-1e1c-4702-a404-55261aebb0f3",
   "metadata": {},
   "outputs": [],
   "source": [
    "#Example prog. using *args\n",
    "def my_function(*args):\n",
    "  for arg in args:\n",
    "    print(arg)"
   ]
  },
  {
   "cell_type": "code",
   "execution_count": 29,
   "id": "018a71cf-a7c3-4cbe-b152-433780e5b1ea",
   "metadata": {},
   "outputs": [
    {
     "name": "stdout",
     "output_type": "stream",
     "text": [
      "Hello\n",
      "World\n",
      "!\n"
     ]
    }
   ],
   "source": [
    "my_function(\"Hello\", \"World\", \"!\")"
   ]
  },
  {
   "cell_type": "code",
   "execution_count": 30,
   "id": "df4c7d81-25d8-4e04-93cc-0d50acb0463b",
   "metadata": {},
   "outputs": [],
   "source": [
    "#Example prog. for *kwargs\n",
    "def my_function2(**kwargs):\n",
    "  for key, value in kwargs.items():\n",
    "    print(f\"{key} = {value}\")"
   ]
  },
  {
   "cell_type": "code",
   "execution_count": 31,
   "id": "95795f2a-be88-465b-bb44-17bd8dc14c59",
   "metadata": {},
   "outputs": [
    {
     "name": "stdout",
     "output_type": "stream",
     "text": [
      "first = Hello\n",
      "mid = World\n",
      "last = !\n"
     ]
    }
   ],
   "source": [
    "my_function2(first=\"Hello\", mid=\"World\", last=\"!\")"
   ]
  },
  {
   "cell_type": "code",
   "execution_count": null,
   "id": "b6a20ae7-ac25-445f-9a02-f66341dae1ad",
   "metadata": {},
   "outputs": [],
   "source": []
  },
  {
   "cell_type": "code",
   "execution_count": 32,
   "id": "feea1883-cef1-43b2-836b-f7877cf4e36a",
   "metadata": {},
   "outputs": [],
   "source": [
    "#Q3. What is an iterator in python? Name the method used to initialise the iterator object and the method used for iteration. Use these methods to print the first five elements of the given list [2, 4, 6, 8, 10, 12, 14, 16, 18, 20].\n",
    "#A) Iterator in python is an object that is used to iterate over iterable objects like lists, tuples, dicts, and sets. The iterator object is initialized using the iter() method. It uses the next() method for iteration."
   ]
  },
  {
   "cell_type": "code",
   "execution_count": 37,
   "id": "2b3632f3-0ea7-4289-a8fd-98b52b313700",
   "metadata": {},
   "outputs": [
    {
     "name": "stdout",
     "output_type": "stream",
     "text": [
      "2\n",
      "4\n",
      "6\n",
      "8\n",
      "10\n"
     ]
    }
   ],
   "source": [
    "a=[2, 4, 6, 8, 10, 12, 14,16, 18, 20]\n",
    "a1_iter=iter(a)\n",
    "\n",
    "print(next(a1_iter))\n",
    "print(next(a1_iter))\n",
    "print(next(a1_iter))\n",
    "print(next(a1_iter))\n",
    "print(next(a1_iter))"
   ]
  },
  {
   "cell_type": "code",
   "execution_count": null,
   "id": "9eb0d059-3a84-4ca5-ab12-aadd32f1a7e3",
   "metadata": {},
   "outputs": [],
   "source": []
  },
  {
   "cell_type": "code",
   "execution_count": 38,
   "id": "37d41d9b-f991-4825-958d-d723cdc2b576",
   "metadata": {},
   "outputs": [],
   "source": [
    "#Q4. What is a generator function in python? Why yield keyword is used? Give an example of a generator function.\n",
    "#A) In Python, a generator function is a function that uses the yield keyword instead of return to return a generator object. A generator is an iterator that produces a sequence of values on-the-fly as you iterate over it, instead of storing all the values in memory at once1\n",
    "\n",
    "#2)The yield keyword is used in generator functions in Python to produce a sequence of values that can be iterated over."
   ]
  },
  {
   "cell_type": "code",
   "execution_count": 39,
   "id": "27a848a4-dcd9-43d6-9285-e0de9c3dbc63",
   "metadata": {},
   "outputs": [],
   "source": [
    "#Example of Generator Function\n",
    "\n",
    "def a(n):\n",
    "    a,b=0,1\n",
    "    for i in range(n):\n",
    "        yield a\n",
    "        a,b=b,a+b"
   ]
  },
  {
   "cell_type": "code",
   "execution_count": 40,
   "id": "e482bf9d-3a0f-42f1-ad70-6645bbfbcb33",
   "metadata": {},
   "outputs": [
    {
     "name": "stdout",
     "output_type": "stream",
     "text": [
      "0\n",
      "1\n",
      "1\n",
      "2\n",
      "3\n",
      "5\n",
      "8\n",
      "13\n",
      "21\n",
      "34\n"
     ]
    }
   ],
   "source": [
    "for i  in a(10):\n",
    "    print(i)"
   ]
  },
  {
   "cell_type": "code",
   "execution_count": null,
   "id": "5e6a08f4-2c9c-4d57-b0b2-42f5d8375602",
   "metadata": {},
   "outputs": [],
   "source": []
  },
  {
   "cell_type": "code",
   "execution_count": 41,
   "id": "079af729-1e2f-48b8-8c3f-062bd4166beb",
   "metadata": {},
   "outputs": [],
   "source": [
    "#Q5. Create a generator function for prime numbers less than 1000. Use the next() method to print the first 20 prime numbers."
   ]
  },
  {
   "cell_type": "code",
   "execution_count": 4,
   "id": "53a4c759-f666-4a8a-8e1f-5e50b2957873",
   "metadata": {},
   "outputs": [],
   "source": [
    "def pr_numb():\n",
    "    num = 2\n",
    "    while True:\n",
    "        for i in range(2, num):\n",
    "            if num % i == 0:\n",
    "                break\n",
    "        else:\n",
    "            yield num\n",
    "        num += 1"
   ]
  },
  {
   "cell_type": "code",
   "execution_count": 5,
   "id": "18d927bd-1836-4b16-bc11-514b3543293b",
   "metadata": {},
   "outputs": [
    {
     "name": "stdout",
     "output_type": "stream",
     "text": [
      "2\n",
      "3\n",
      "5\n",
      "7\n",
      "11\n",
      "13\n",
      "17\n",
      "19\n",
      "23\n",
      "29\n",
      "31\n",
      "37\n",
      "41\n",
      "43\n",
      "47\n",
      "53\n",
      "59\n",
      "61\n",
      "67\n",
      "71\n"
     ]
    }
   ],
   "source": [
    "prime = pr_numb()\n",
    "for i in range(20):\n",
    "    print(next(prime))"
   ]
  },
  {
   "cell_type": "code",
   "execution_count": null,
   "id": "09f79cd4-4a65-4c03-9984-38b431db125e",
   "metadata": {},
   "outputs": [],
   "source": []
  },
  {
   "cell_type": "code",
   "execution_count": 3,
   "id": "c63e5905-9226-4098-a141-c3130737f009",
   "metadata": {},
   "outputs": [],
   "source": [
    "#Q6. Write a python program to print the first 10 Fibonacci numbers using a while loop."
   ]
  },
  {
   "cell_type": "code",
   "execution_count": 17,
   "id": "56b8deb1-466d-4308-ba25-b85e9a1e0b1e",
   "metadata": {},
   "outputs": [],
   "source": [
    "def a():\n",
    "    a,b=0,1\n",
    "    while True:\n",
    "        yield a\n",
    "        a,b=b,a+b"
   ]
  },
  {
   "cell_type": "code",
   "execution_count": 18,
   "id": "565a80e3-0eed-447d-86bf-859bc7b0518d",
   "metadata": {},
   "outputs": [
    {
     "name": "stdout",
     "output_type": "stream",
     "text": [
      "0\n",
      "1\n",
      "1\n",
      "2\n",
      "3\n",
      "5\n",
      "8\n",
      "13\n",
      "21\n",
      "34\n"
     ]
    }
   ],
   "source": [
    "z=a()\n",
    "for i in range(10):\n",
    "    print(next(z))"
   ]
  },
  {
   "cell_type": "code",
   "execution_count": null,
   "id": "ec8874fb-8104-41b8-a651-8d5eb76486ce",
   "metadata": {},
   "outputs": [],
   "source": []
  },
  {
   "cell_type": "code",
   "execution_count": 19,
   "id": "8fa7a480-3745-4581-b852-a36d74967ec6",
   "metadata": {},
   "outputs": [],
   "source": [
    "#Q7. Write a List Comprehension to iterate through the given string: ‘pwskills’.Expected output: ['p', 'w', 's', 'k', 'i', 'l', 'l', 's']"
   ]
  },
  {
   "cell_type": "code",
   "execution_count": 19,
   "id": "cb991705-8f9d-4896-95f7-ed5c220f6305",
   "metadata": {},
   "outputs": [
    {
     "name": "stdout",
     "output_type": "stream",
     "text": [
      "['p']\n",
      "['w']\n",
      "['s']\n",
      "['k']\n",
      "['i']\n",
      "['l']\n",
      "['l']\n",
      "['s']\n"
     ]
    }
   ],
   "source": [
    "a=\"pwskills\"\n",
    "for i in a:\n",
    "    print(list(i))"
   ]
  },
  {
   "cell_type": "code",
   "execution_count": null,
   "id": "abc37444-0b76-4d50-92bd-01d23b0f76e9",
   "metadata": {},
   "outputs": [],
   "source": []
  },
  {
   "cell_type": "code",
   "execution_count": 20,
   "id": "6e360fd3-4264-43e9-a3c7-69fe914e0a40",
   "metadata": {},
   "outputs": [],
   "source": [
    "#Q8. Write a python program to check whether a given number is Palindrome or not using a while loop."
   ]
  },
  {
   "cell_type": "code",
   "execution_count": 5,
   "id": "bea0bcad-50d8-42db-b855-234f0bd8ead8",
   "metadata": {},
   "outputs": [
    {
     "name": "stdin",
     "output_type": "stream",
     "text": [
      "enter any number greater than 100: 121\n"
     ]
    },
    {
     "name": "stdout",
     "output_type": "stream",
     "text": [
      "the number is palindrome\n"
     ]
    }
   ],
   "source": [
    "a=int(input('enter any number greater than 100:'))\n",
    "rev=0\n",
    "x=a\n",
    "while a>0:\n",
    "    rev=(rev*10)+a%10\n",
    "    a=a//10\n",
    "if x==rev:\n",
    "    print('the number is palindrome')\n",
    "else:\n",
    "    print('it is not a palindrome')"
   ]
  },
  {
   "cell_type": "code",
   "execution_count": null,
   "id": "83228b0e-b7d6-470e-b542-846940d76cac",
   "metadata": {},
   "outputs": [],
   "source": []
  },
  {
   "cell_type": "code",
   "execution_count": null,
   "id": "3ce15866-885e-4dee-81ba-b69d58b07eb0",
   "metadata": {},
   "outputs": [],
   "source": [
    "#Q9. Write a code to print odd numbers from 1 to 100 using list comprehension.\n",
    "#Note: Use a list comprehension to create a list from 1 to 100 and use another List comprehension to filter out odd numbers."
   ]
  },
  {
   "cell_type": "code",
   "execution_count": 1,
   "id": "cfd89672-fc5d-400e-9fab-5807fd767e88",
   "metadata": {},
   "outputs": [],
   "source": [
    "a=list(range(1,100))\n",
    "b=[]\n",
    "for i in a:\n",
    "    if i%2!=0:\n",
    "        b.append(i)"
   ]
  },
  {
   "cell_type": "code",
   "execution_count": 2,
   "id": "41193883-5da9-4138-9480-9959f82482b0",
   "metadata": {},
   "outputs": [
    {
     "data": {
      "text/plain": [
       "[1,\n",
       " 3,\n",
       " 5,\n",
       " 7,\n",
       " 9,\n",
       " 11,\n",
       " 13,\n",
       " 15,\n",
       " 17,\n",
       " 19,\n",
       " 21,\n",
       " 23,\n",
       " 25,\n",
       " 27,\n",
       " 29,\n",
       " 31,\n",
       " 33,\n",
       " 35,\n",
       " 37,\n",
       " 39,\n",
       " 41,\n",
       " 43,\n",
       " 45,\n",
       " 47,\n",
       " 49,\n",
       " 51,\n",
       " 53,\n",
       " 55,\n",
       " 57,\n",
       " 59,\n",
       " 61,\n",
       " 63,\n",
       " 65,\n",
       " 67,\n",
       " 69,\n",
       " 71,\n",
       " 73,\n",
       " 75,\n",
       " 77,\n",
       " 79,\n",
       " 81,\n",
       " 83,\n",
       " 85,\n",
       " 87,\n",
       " 89,\n",
       " 91,\n",
       " 93,\n",
       " 95,\n",
       " 97,\n",
       " 99]"
      ]
     },
     "execution_count": 2,
     "metadata": {},
     "output_type": "execute_result"
    }
   ],
   "source": [
    "b"
   ]
  },
  {
   "cell_type": "code",
   "execution_count": null,
   "id": "2af8433f-5c29-4cfe-bda4-4822d1f9ef19",
   "metadata": {},
   "outputs": [],
   "source": []
  },
  {
   "cell_type": "code",
   "execution_count": null,
   "id": "9adc2784-7cd4-4d33-b9ef-4ab976be13f1",
   "metadata": {},
   "outputs": [],
   "source": []
  }
 ],
 "metadata": {
  "kernelspec": {
   "display_name": "Python 3 (ipykernel)",
   "language": "python",
   "name": "python3"
  },
  "language_info": {
   "codemirror_mode": {
    "name": "ipython",
    "version": 3
   },
   "file_extension": ".py",
   "mimetype": "text/x-python",
   "name": "python",
   "nbconvert_exporter": "python",
   "pygments_lexer": "ipython3",
   "version": "3.10.8"
  }
 },
 "nbformat": 4,
 "nbformat_minor": 5
}
